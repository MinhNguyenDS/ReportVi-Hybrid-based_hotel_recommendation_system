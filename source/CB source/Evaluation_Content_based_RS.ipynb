{
  "nbformat": 4,
  "nbformat_minor": 0,
  "metadata": {
    "colab": {
      "provenance": []
    },
    "kernelspec": {
      "name": "python3",
      "display_name": "Python 3"
    },
    "language_info": {
      "name": "python"
    }
  },
  "cells": [
    {
      "cell_type": "code",
      "source": [
        "import pandas as pd\n",
        "import numpy as np"
      ],
      "metadata": {
        "id": "rdm8tvgesZeC"
      },
      "execution_count": 1,
      "outputs": []
    },
    {
      "cell_type": "code",
      "source": [
        "from google.colab import drive\n",
        "drive.mount('/content/drive')"
      ],
      "metadata": {
        "colab": {
          "base_uri": "https://localhost:8080/"
        },
        "id": "-CkoeOQu_Ys3",
        "outputId": "085db467-0701-44f4-f2ca-1874f9c701b2"
      },
      "execution_count": 2,
      "outputs": [
        {
          "output_type": "stream",
          "name": "stdout",
          "text": [
            "Mounted at /content/drive\n"
          ]
        }
      ]
    },
    {
      "cell_type": "code",
      "execution_count": 3,
      "metadata": {
        "id": "AbhsxWqLp9PF"
      },
      "outputs": [],
      "source": [
        "df_list_recommend = pd.read_csv('/content/drive/MyDrive/DS300_DoAn/data/List_Hotel_Recommend.csv')"
      ]
    },
    {
      "cell_type": "code",
      "source": [
        "df_test = pd.read_csv('/content/drive/MyDrive/DS300_DoAn/data/data_test.csv')\n",
        "df_hotel = pd.read_csv('/content/drive/MyDrive/DS300_DoAn/data/data_hotel.csv')"
      ],
      "metadata": {
        "id": "KnbmPFu9sd3R"
      },
      "execution_count": 4,
      "outputs": []
    },
    {
      "cell_type": "code",
      "source": [
        "# Tổng hợp IDhotel theo từng IDuser\n",
        "id_hotels = df_test.groupby('IDuser')['IDhotel'].apply(list).reset_index()"
      ],
      "metadata": {
        "id": "KsdQRdVzsy1o"
      },
      "execution_count": 5,
      "outputs": []
    },
    {
      "cell_type": "code",
      "source": [
        "# Tạo một từ điển ánh xạ tên khách sạn sang ID\n",
        "hotel_name_to_id = {row[\"NameHotel\"]: row[\"IDhotel\"] for _, row in df_hotel.iterrows()}\n",
        "\n",
        "# Chuyển đổi tên khách sạn trong dataframe \"df_recommend\" sang dạng ID\n",
        "df_list_recommend[\"HotelID\"] = df_list_recommend[\"List Hotel Recommended\"].apply(lambda x: [hotel_name_to_id[name.strip(\"'\")] for name in eval(x)])"
      ],
      "metadata": {
        "id": "EAxKgR1zw2ZN"
      },
      "execution_count": 6,
      "outputs": []
    },
    {
      "cell_type": "code",
      "source": [
        "def precision_at_k(actual, predicted, k):\n",
        "    # Giới hạn danh sách dự đoán đến vị trí k\n",
        "    predicted_k = predicted[:k]\n",
        "\n",
        "    # Số lượng mục dự đoán chính xác\n",
        "    correct_predictions = len(set(actual) & set(predicted_k))\n",
        "\n",
        "    # Precision tại vị trí k\n",
        "    precision = correct_predictions / k\n",
        "\n",
        "    return precision"
      ],
      "metadata": {
        "id": "-yc1FfjfqRnI"
      },
      "execution_count": 7,
      "outputs": []
    },
    {
      "cell_type": "code",
      "source": [
        "def average_precision_at_k(test_data, pred_data, k):\n",
        "    users = set(test_data['IDuser']) & set(pred_data['IDuser'])\n",
        "    num_users = len(users)\n",
        "    total_precision = 0\n",
        "\n",
        "    for user in users:\n",
        "        user_actual = test_data.loc[test_data['IDuser'] == user, 'IDhotel'].tolist()[0]\n",
        "        user_predicted = pred_data.loc[pred_data['IDuser'] == user, 'HotelID'].tolist()[0]\n",
        "\n",
        "        user_precision = precision_at_k(user_actual, user_predicted, k)\n",
        "        total_precision += user_precision\n",
        "\n",
        "    average_precision = total_precision / num_users\n",
        "\n",
        "    return average_precision"
      ],
      "metadata": {
        "id": "R8nHj1hGhIaH"
      },
      "execution_count": 8,
      "outputs": []
    },
    {
      "cell_type": "code",
      "source": [
        "actual = id_hotels[['IDuser', 'IDhotel']]\n",
        "predict = df_list_recommend[['IDuser','HotelID']]"
      ],
      "metadata": {
        "id": "mv6H0i-ZhTqQ"
      },
      "execution_count": 9,
      "outputs": []
    },
    {
      "cell_type": "code",
      "source": [
        "average_precision = average_precision_at_k(actual, predict,5)\n",
        "average_precision"
      ],
      "metadata": {
        "colab": {
          "base_uri": "https://localhost:8080/"
        },
        "id": "V6Y4zNmZh7UW",
        "outputId": "a972ce13-30e0-47d9-ea13-a929c76c6550"
      },
      "execution_count": 15,
      "outputs": [
        {
          "output_type": "execute_result",
          "data": {
            "text/plain": [
              "0.125"
            ]
          },
          "metadata": {},
          "execution_count": 15
        }
      ]
    },
    {
      "cell_type": "code",
      "source": [
        "def recall_at_k(actual, predicted, k):\n",
        "    # Giới hạn danh sách dự đoán đến vị trí k\n",
        "    predicted_k = predicted[:k]\n",
        "\n",
        "    # Số lượng mục dự đoán chính xác\n",
        "    correct_predictions = len(set(actual) & set(predicted_k))\n",
        "\n",
        "    # Số lượng mục thực tế\n",
        "    total_actual = len(actual)\n",
        "\n",
        "    # Recall tại vị trí k\n",
        "    recall = correct_predictions / total_actual\n",
        "\n",
        "    return recall\n",
        "\n",
        "def average_recall_at_k(test_data, pred_data, k):\n",
        "    users = set(test_data['IDuser']) & set(pred_data['IDuser'])\n",
        "    num_users = len(users)\n",
        "    total_recall = 0\n",
        "\n",
        "    for user in users:\n",
        "        user_actual = test_data.loc[test_data['IDuser'] == user, 'IDhotel'].tolist()[0]\n",
        "        user_predicted = pred_data.loc[pred_data['IDuser'] == user, 'HotelID'].tolist()[0]\n",
        "\n",
        "        user_recall = recall_at_k(user_actual, user_predicted, k)\n",
        "        total_recall += user_recall\n",
        "\n",
        "    average_recall = total_recall / num_users\n",
        "\n",
        "    return average_recall"
      ],
      "metadata": {
        "id": "YQZyKw85lTwU"
      },
      "execution_count": 11,
      "outputs": []
    },
    {
      "cell_type": "code",
      "source": [
        "average_recall = average_recall_at_k(actual, predict,5)\n",
        "average_recall"
      ],
      "metadata": {
        "colab": {
          "base_uri": "https://localhost:8080/"
        },
        "id": "Vr46HygdlU-D",
        "outputId": "0dbfd35a-a628-452c-b6b6-ca2173ca3a9e"
      },
      "execution_count": 16,
      "outputs": [
        {
          "output_type": "execute_result",
          "data": {
            "text/plain": [
              "0.02505801959626288"
            ]
          },
          "metadata": {},
          "execution_count": 16
        }
      ]
    }
  ]
}