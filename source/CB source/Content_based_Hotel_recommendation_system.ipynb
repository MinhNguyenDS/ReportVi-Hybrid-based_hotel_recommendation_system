{
  "nbformat": 4,
  "nbformat_minor": 0,
  "metadata": {
    "colab": {
      "provenance": [],
      "gpuType": "T4",
      "toc_visible": true
    },
    "kernelspec": {
      "name": "python3",
      "display_name": "Python 3"
    },
    "language_info": {
      "name": "python"
    },
    "accelerator": "GPU"
  },
  "cells": [
    {
      "cell_type": "markdown",
      "source": [
        "# Import thư viện"
      ],
      "metadata": {
        "id": "7XcMpJOEl62q"
      }
    },
    {
      "cell_type": "code",
      "execution_count": 1,
      "metadata": {
        "colab": {
          "base_uri": "https://localhost:8080/"
        },
        "id": "bV6-7CrEcL4N",
        "outputId": "324d5c88-31ff-4a03-81f0-388a52847371"
      },
      "outputs": [
        {
          "output_type": "stream",
          "name": "stdout",
          "text": [
            "Collecting pyvi\n",
            "  Downloading pyvi-0.1.1-py2.py3-none-any.whl (8.5 MB)\n",
            "\u001b[2K     \u001b[90m━━━━━━━━━━━━━━━━━━━━━━━━━━━━━━━━━━━━━━━━\u001b[0m \u001b[32m8.5/8.5 MB\u001b[0m \u001b[31m25.4 MB/s\u001b[0m eta \u001b[36m0:00:00\u001b[0m\n",
            "\u001b[?25hRequirement already satisfied: scikit-learn in /usr/local/lib/python3.10/dist-packages (from pyvi) (1.2.2)\n",
            "Collecting sklearn-crfsuite (from pyvi)\n",
            "  Downloading sklearn_crfsuite-0.3.6-py2.py3-none-any.whl (12 kB)\n",
            "Requirement already satisfied: numpy>=1.17.3 in /usr/local/lib/python3.10/dist-packages (from scikit-learn->pyvi) (1.23.5)\n",
            "Requirement already satisfied: scipy>=1.3.2 in /usr/local/lib/python3.10/dist-packages (from scikit-learn->pyvi) (1.11.4)\n",
            "Requirement already satisfied: joblib>=1.1.1 in /usr/local/lib/python3.10/dist-packages (from scikit-learn->pyvi) (1.3.2)\n",
            "Requirement already satisfied: threadpoolctl>=2.0.0 in /usr/local/lib/python3.10/dist-packages (from scikit-learn->pyvi) (3.2.0)\n",
            "Collecting python-crfsuite>=0.8.3 (from sklearn-crfsuite->pyvi)\n",
            "  Downloading python_crfsuite-0.9.9-cp310-cp310-manylinux_2_17_x86_64.manylinux2014_x86_64.whl (993 kB)\n",
            "\u001b[2K     \u001b[90m━━━━━━━━━━━━━━━━━━━━━━━━━━━━━━━━━━━━━━━━\u001b[0m \u001b[32m993.5/993.5 kB\u001b[0m \u001b[31m52.9 MB/s\u001b[0m eta \u001b[36m0:00:00\u001b[0m\n",
            "\u001b[?25hRequirement already satisfied: six in /usr/local/lib/python3.10/dist-packages (from sklearn-crfsuite->pyvi) (1.16.0)\n",
            "Requirement already satisfied: tabulate in /usr/local/lib/python3.10/dist-packages (from sklearn-crfsuite->pyvi) (0.9.0)\n",
            "Requirement already satisfied: tqdm>=2.0 in /usr/local/lib/python3.10/dist-packages (from sklearn-crfsuite->pyvi) (4.66.1)\n",
            "Installing collected packages: python-crfsuite, sklearn-crfsuite, pyvi\n",
            "Successfully installed python-crfsuite-0.9.9 pyvi-0.1.1 sklearn-crfsuite-0.3.6\n"
          ]
        }
      ],
      "source": [
        "!pip install pyvi"
      ]
    },
    {
      "cell_type": "code",
      "source": [
        "import pandas as pd\n",
        "import numpy as np\n",
        "from gensim.models import Word2Vec\n",
        "from pyvi import ViTokenizer\n",
        "from nltk.stem import WordNetLemmatizer\n",
        "from sklearn.metrics.pairwise import cosine_similarity\n",
        "from nltk.corpus import stopwords\n",
        "from tqdm import tqdm\n",
        "import nltk\n",
        "nltk.download('wordnet')"
      ],
      "metadata": {
        "id": "hXsrrNqncNTh",
        "colab": {
          "base_uri": "https://localhost:8080/"
        },
        "outputId": "65207857-2df0-4a37-dc88-adccdfacbcd7"
      },
      "execution_count": 2,
      "outputs": [
        {
          "output_type": "stream",
          "name": "stderr",
          "text": [
            "[nltk_data] Downloading package wordnet to /root/nltk_data...\n"
          ]
        },
        {
          "output_type": "execute_result",
          "data": {
            "text/plain": [
              "True"
            ]
          },
          "metadata": {},
          "execution_count": 2
        }
      ]
    },
    {
      "cell_type": "markdown",
      "source": [
        "# Load dataset"
      ],
      "metadata": {
        "id": "vXZumrl8mAxK"
      }
    },
    {
      "cell_type": "code",
      "source": [
        "from google.colab import drive\n",
        "drive.mount('/content/drive')"
      ],
      "metadata": {
        "colab": {
          "base_uri": "https://localhost:8080/"
        },
        "id": "fVFpdrCQcPPJ",
        "outputId": "08f08527-9ad2-4c78-a890-efc4673feaff"
      },
      "execution_count": 3,
      "outputs": [
        {
          "output_type": "stream",
          "name": "stdout",
          "text": [
            "Mounted at /content/drive\n"
          ]
        }
      ]
    },
    {
      "cell_type": "code",
      "source": [
        "# Dữ liệu thông tin - mô tả của các khách sạn\n",
        "hotel_data = pd.read_csv('/content/drive/MyDrive/DS300_DoAn/data/data_info_hotel_new.csv')"
      ],
      "metadata": {
        "id": "JNSoz8b7cRQp"
      },
      "execution_count": 24,
      "outputs": []
    },
    {
      "cell_type": "code",
      "source": [
        "# Dữ liệu lịch sử người dùng\n",
        "df_his = pd.read_csv('/content/drive/MyDrive/DS300_DoAn/data/data_history.csv')\n",
        "# Dữ liệu rút gọn ID - tên khách sạn\n",
        "df_hotel = pd.read_csv('/content/drive/MyDrive/DS300_DoAn/data/data_hotel.csv')\n",
        "\n",
        "# Lấy dữ liệu lịch sử cho mỗi người dùng\n",
        "df_latest = pd.merge(df_his, df_hotel, on = 'IDhotel', how = 'inner')\n",
        "df_latest = pd.merge(df_latest, hotel_data, on = 'NameHotel', how = 'inner')"
      ],
      "metadata": {
        "id": "N6ZKrP_IdRjJ"
      },
      "execution_count": 25,
      "outputs": []
    },
    {
      "cell_type": "code",
      "source": [
        "# Lọc df_latest dựa vào ID của user\n",
        "unique_user_ids = df_latest['IDuser'].unique()\n",
        "filtered_df_latest = df_latest[df_latest['IDuser'].isin(unique_user_ids)]\n",
        "\n",
        "# Nhóm dữu liệu theo ID\n",
        "grouped = filtered_df_latest.groupby(filtered_df_latest['IDuser'])\n",
        "\n",
        "fac_concat = grouped['Facilities'].apply(lambda x: ','.join(x.unique())).tolist()\n",
        "ar_concat = grouped['Around'].apply(lambda x: ','.join(x.unique())).tolist()\n",
        "vici_concat = grouped['Vicinity'].apply(lambda x: ','.join(x.unique())).tolist()\n",
        "pri_concat = grouped['Price_Category'].apply(lambda x: ','.join(x.unique())).tolist()\n",
        "name_hotels = grouped['NameHotel'].apply(lambda x: ','.join(x.unique())).tolist()"
      ],
      "metadata": {
        "id": "dPXdh8FAkKoa"
      },
      "execution_count": 26,
      "outputs": []
    },
    {
      "cell_type": "code",
      "source": [
        "# DataFrame lịch sử người dùng\n",
        "df_merge = pd.DataFrame({'IDuser': unique_user_ids,\n",
        "                         'Name Hotel': name_hotels,\n",
        "                         'Facilities': fac_concat,\n",
        "                         'Around': ar_concat,\n",
        "                         'Vicinity': vici_concat,\n",
        "                         'Price': pri_concat})\n",
        "\n",
        "df_merge"
      ],
      "metadata": {
        "colab": {
          "base_uri": "https://localhost:8080/",
          "height": 597
        },
        "id": "IBiSjcl2j-hc",
        "outputId": "5c0a18a6-2e5b-4740-a961-e7989440ba00"
      },
      "execution_count": 27,
      "outputs": [
        {
          "output_type": "execute_result",
          "data": {
            "text/plain": [
              "      IDuser                       Name Hotel  \\\n",
              "0       3040                  Đức Trọng Hotel   \n",
              "1       8755           TTR An Nam Apart Hotel   \n",
              "2       7261                    Hôtel Colline   \n",
              "3       3423        Le Soleil Nha Trang Hotel   \n",
              "4        435  Gold Ocean Apartments Nha Trang   \n",
              "...      ...                              ...   \n",
              "9271    6918      Lotus Village Resort Mui Ne   \n",
              "9272    7327                The Secret Garden   \n",
              "9273    4135            Raon Dalat - STAY 24H   \n",
              "9274   10364                TH Quy Nhơn Hotel   \n",
              "9275    2124               Annata Beach Hotel   \n",
              "\n",
              "                                             Facilities  \\\n",
              "0     WiFi miễn phí, Chỗ đỗ xe miễn phí, Phòn...   \n",
              "1     WiFi miễn phí, Chỗ đỗ xe miễn phí, Phòn...   \n",
              "2     WiFi miễn phí, Phòng gia đình, Dịch vụ đưa...   \n",
              "3     Máy lạnh, Nhà hàng, Lễ tân 24h, Chỗ đậu xe, Th...   \n",
              "4     Máy lạnh, Nhà hàng, Hồ bơi, Lễ tân 24h, Chỗ đậ...   \n",
              "...                                                 ...   \n",
              "9271  Máy lạnh, Nhà hàng, Hồ bơi, Lễ tân 24h, Chỗ đậ...   \n",
              "9272  WiFi miễn phí, Xe đưa đón sân bay, Phòng g...   \n",
              "9273  WiFi miễn phí, Chỗ đỗ xe miễn phí, Phòn...   \n",
              "9274  Xe đưa đón sân bay, Phòng không hút thuốc,...   \n",
              "9275  WiFi miễn phí, Chỗ đỗ xe miễn phí, Phòn...   \n",
              "\n",
              "                                                Around  \\\n",
              "0                       Tượng đài, Cafe/quán bar, Biển   \n",
              "1                                        Cafe/quán bar   \n",
              "2                          Quảng trường, Cafe/quán bar   \n",
              "3                Quảng trường, Biển, Tháp, Khu mua sắm   \n",
              "4     Biển, Quảng trường, Tháp, Khu mua sắm, Công viên   \n",
              "...                                                ...   \n",
              "9271                                                ##   \n",
              "9272                Cầu, Bảo tàng, Cafe/quán bar, Sông   \n",
              "9273                                     Cafe/quán bar   \n",
              "9274                               Cafe/quán bar, Biển   \n",
              "9275      Công viên, Khu cắm trại, Cafe/quán bar, Biển   \n",
              "\n",
              "                                               Vicinity       Price  \n",
              "0     Di tích, Khu cắm trại, Công viên, Biển, Sân ba...        Thấp  \n",
              "1     Vườn hoa, Quảng trường, Bảo tàng, Công Viên, D...        Thấp  \n",
              "2                     Công viên, Vườn hoa, Di tích, Núi         Cao  \n",
              "3     Công viên, Nhà thờ, Bảo tàng, Tháp, Viện Hải d...        Thấp  \n",
              "4     Nhà ga, Nhà thờ, Bảo tàng, Phòng tranh, Chợ, C...  Trung bình  \n",
              "...                                                 ...         ...  \n",
              "9271  Di tích, Bãi đá, Biển, Sân golf, Công viên, Nú...         Cao  \n",
              "9272  Cầu, Cánh đồng, Khu giải trí, Công viên, Núi, ...        Thấp  \n",
              "9273  Vườn hoa, Quảng trường, Bảo tàng, Công Viên, D...        Thấp  \n",
              "9274                                  Khu du lịch, Biển        Thấp  \n",
              "9275  Công viên, Biển, Hải đăng, Tượng đài, Di tích,...  Trung bình  \n",
              "\n",
              "[9276 rows x 6 columns]"
            ],
            "text/html": [
              "\n",
              "  <div id=\"df-a22b1ef3-4ae6-4c3c-8b73-3cc1dd8bf677\" class=\"colab-df-container\">\n",
              "    <div>\n",
              "<style scoped>\n",
              "    .dataframe tbody tr th:only-of-type {\n",
              "        vertical-align: middle;\n",
              "    }\n",
              "\n",
              "    .dataframe tbody tr th {\n",
              "        vertical-align: top;\n",
              "    }\n",
              "\n",
              "    .dataframe thead th {\n",
              "        text-align: right;\n",
              "    }\n",
              "</style>\n",
              "<table border=\"1\" class=\"dataframe\">\n",
              "  <thead>\n",
              "    <tr style=\"text-align: right;\">\n",
              "      <th></th>\n",
              "      <th>IDuser</th>\n",
              "      <th>Name Hotel</th>\n",
              "      <th>Facilities</th>\n",
              "      <th>Around</th>\n",
              "      <th>Vicinity</th>\n",
              "      <th>Price</th>\n",
              "    </tr>\n",
              "  </thead>\n",
              "  <tbody>\n",
              "    <tr>\n",
              "      <th>0</th>\n",
              "      <td>3040</td>\n",
              "      <td>Đức Trọng Hotel</td>\n",
              "      <td>WiFi miễn phí, Chỗ đỗ xe miễn phí, Phòn...</td>\n",
              "      <td>Tượng đài, Cafe/quán bar, Biển</td>\n",
              "      <td>Di tích, Khu cắm trại, Công viên, Biển, Sân ba...</td>\n",
              "      <td>Thấp</td>\n",
              "    </tr>\n",
              "    <tr>\n",
              "      <th>1</th>\n",
              "      <td>8755</td>\n",
              "      <td>TTR An Nam Apart Hotel</td>\n",
              "      <td>WiFi miễn phí, Chỗ đỗ xe miễn phí, Phòn...</td>\n",
              "      <td>Cafe/quán bar</td>\n",
              "      <td>Vườn hoa, Quảng trường, Bảo tàng, Công Viên, D...</td>\n",
              "      <td>Thấp</td>\n",
              "    </tr>\n",
              "    <tr>\n",
              "      <th>2</th>\n",
              "      <td>7261</td>\n",
              "      <td>Hôtel Colline</td>\n",
              "      <td>WiFi miễn phí, Phòng gia đình, Dịch vụ đưa...</td>\n",
              "      <td>Quảng trường, Cafe/quán bar</td>\n",
              "      <td>Công viên, Vườn hoa, Di tích, Núi</td>\n",
              "      <td>Cao</td>\n",
              "    </tr>\n",
              "    <tr>\n",
              "      <th>3</th>\n",
              "      <td>3423</td>\n",
              "      <td>Le Soleil Nha Trang Hotel</td>\n",
              "      <td>Máy lạnh, Nhà hàng, Lễ tân 24h, Chỗ đậu xe, Th...</td>\n",
              "      <td>Quảng trường, Biển, Tháp, Khu mua sắm</td>\n",
              "      <td>Công viên, Nhà thờ, Bảo tàng, Tháp, Viện Hải d...</td>\n",
              "      <td>Thấp</td>\n",
              "    </tr>\n",
              "    <tr>\n",
              "      <th>4</th>\n",
              "      <td>435</td>\n",
              "      <td>Gold Ocean Apartments Nha Trang</td>\n",
              "      <td>Máy lạnh, Nhà hàng, Hồ bơi, Lễ tân 24h, Chỗ đậ...</td>\n",
              "      <td>Biển, Quảng trường, Tháp, Khu mua sắm, Công viên</td>\n",
              "      <td>Nhà ga, Nhà thờ, Bảo tàng, Phòng tranh, Chợ, C...</td>\n",
              "      <td>Trung bình</td>\n",
              "    </tr>\n",
              "    <tr>\n",
              "      <th>...</th>\n",
              "      <td>...</td>\n",
              "      <td>...</td>\n",
              "      <td>...</td>\n",
              "      <td>...</td>\n",
              "      <td>...</td>\n",
              "      <td>...</td>\n",
              "    </tr>\n",
              "    <tr>\n",
              "      <th>9271</th>\n",
              "      <td>6918</td>\n",
              "      <td>Lotus Village Resort Mui Ne</td>\n",
              "      <td>Máy lạnh, Nhà hàng, Hồ bơi, Lễ tân 24h, Chỗ đậ...</td>\n",
              "      <td>##</td>\n",
              "      <td>Di tích, Bãi đá, Biển, Sân golf, Công viên, Nú...</td>\n",
              "      <td>Cao</td>\n",
              "    </tr>\n",
              "    <tr>\n",
              "      <th>9272</th>\n",
              "      <td>7327</td>\n",
              "      <td>The Secret Garden</td>\n",
              "      <td>WiFi miễn phí, Xe đưa đón sân bay, Phòng g...</td>\n",
              "      <td>Cầu, Bảo tàng, Cafe/quán bar, Sông</td>\n",
              "      <td>Cầu, Cánh đồng, Khu giải trí, Công viên, Núi, ...</td>\n",
              "      <td>Thấp</td>\n",
              "    </tr>\n",
              "    <tr>\n",
              "      <th>9273</th>\n",
              "      <td>4135</td>\n",
              "      <td>Raon Dalat - STAY 24H</td>\n",
              "      <td>WiFi miễn phí, Chỗ đỗ xe miễn phí, Phòn...</td>\n",
              "      <td>Cafe/quán bar</td>\n",
              "      <td>Vườn hoa, Quảng trường, Bảo tàng, Công Viên, D...</td>\n",
              "      <td>Thấp</td>\n",
              "    </tr>\n",
              "    <tr>\n",
              "      <th>9274</th>\n",
              "      <td>10364</td>\n",
              "      <td>TH Quy Nhơn Hotel</td>\n",
              "      <td>Xe đưa đón sân bay, Phòng không hút thuốc,...</td>\n",
              "      <td>Cafe/quán bar, Biển</td>\n",
              "      <td>Khu du lịch, Biển</td>\n",
              "      <td>Thấp</td>\n",
              "    </tr>\n",
              "    <tr>\n",
              "      <th>9275</th>\n",
              "      <td>2124</td>\n",
              "      <td>Annata Beach Hotel</td>\n",
              "      <td>WiFi miễn phí, Chỗ đỗ xe miễn phí, Phòn...</td>\n",
              "      <td>Công viên, Khu cắm trại, Cafe/quán bar, Biển</td>\n",
              "      <td>Công viên, Biển, Hải đăng, Tượng đài, Di tích,...</td>\n",
              "      <td>Trung bình</td>\n",
              "    </tr>\n",
              "  </tbody>\n",
              "</table>\n",
              "<p>9276 rows × 6 columns</p>\n",
              "</div>\n",
              "    <div class=\"colab-df-buttons\">\n",
              "\n",
              "  <div class=\"colab-df-container\">\n",
              "    <button class=\"colab-df-convert\" onclick=\"convertToInteractive('df-a22b1ef3-4ae6-4c3c-8b73-3cc1dd8bf677')\"\n",
              "            title=\"Convert this dataframe to an interactive table.\"\n",
              "            style=\"display:none;\">\n",
              "\n",
              "  <svg xmlns=\"http://www.w3.org/2000/svg\" height=\"24px\" viewBox=\"0 -960 960 960\">\n",
              "    <path d=\"M120-120v-720h720v720H120Zm60-500h600v-160H180v160Zm220 220h160v-160H400v160Zm0 220h160v-160H400v160ZM180-400h160v-160H180v160Zm440 0h160v-160H620v160ZM180-180h160v-160H180v160Zm440 0h160v-160H620v160Z\"/>\n",
              "  </svg>\n",
              "    </button>\n",
              "\n",
              "  <style>\n",
              "    .colab-df-container {\n",
              "      display:flex;\n",
              "      gap: 12px;\n",
              "    }\n",
              "\n",
              "    .colab-df-convert {\n",
              "      background-color: #E8F0FE;\n",
              "      border: none;\n",
              "      border-radius: 50%;\n",
              "      cursor: pointer;\n",
              "      display: none;\n",
              "      fill: #1967D2;\n",
              "      height: 32px;\n",
              "      padding: 0 0 0 0;\n",
              "      width: 32px;\n",
              "    }\n",
              "\n",
              "    .colab-df-convert:hover {\n",
              "      background-color: #E2EBFA;\n",
              "      box-shadow: 0px 1px 2px rgba(60, 64, 67, 0.3), 0px 1px 3px 1px rgba(60, 64, 67, 0.15);\n",
              "      fill: #174EA6;\n",
              "    }\n",
              "\n",
              "    .colab-df-buttons div {\n",
              "      margin-bottom: 4px;\n",
              "    }\n",
              "\n",
              "    [theme=dark] .colab-df-convert {\n",
              "      background-color: #3B4455;\n",
              "      fill: #D2E3FC;\n",
              "    }\n",
              "\n",
              "    [theme=dark] .colab-df-convert:hover {\n",
              "      background-color: #434B5C;\n",
              "      box-shadow: 0px 1px 3px 1px rgba(0, 0, 0, 0.15);\n",
              "      filter: drop-shadow(0px 1px 2px rgba(0, 0, 0, 0.3));\n",
              "      fill: #FFFFFF;\n",
              "    }\n",
              "  </style>\n",
              "\n",
              "    <script>\n",
              "      const buttonEl =\n",
              "        document.querySelector('#df-a22b1ef3-4ae6-4c3c-8b73-3cc1dd8bf677 button.colab-df-convert');\n",
              "      buttonEl.style.display =\n",
              "        google.colab.kernel.accessAllowed ? 'block' : 'none';\n",
              "\n",
              "      async function convertToInteractive(key) {\n",
              "        const element = document.querySelector('#df-a22b1ef3-4ae6-4c3c-8b73-3cc1dd8bf677');\n",
              "        const dataTable =\n",
              "          await google.colab.kernel.invokeFunction('convertToInteractive',\n",
              "                                                    [key], {});\n",
              "        if (!dataTable) return;\n",
              "\n",
              "        const docLinkHtml = 'Like what you see? Visit the ' +\n",
              "          '<a target=\"_blank\" href=https://colab.research.google.com/notebooks/data_table.ipynb>data table notebook</a>'\n",
              "          + ' to learn more about interactive tables.';\n",
              "        element.innerHTML = '';\n",
              "        dataTable['output_type'] = 'display_data';\n",
              "        await google.colab.output.renderOutput(dataTable, element);\n",
              "        const docLink = document.createElement('div');\n",
              "        docLink.innerHTML = docLinkHtml;\n",
              "        element.appendChild(docLink);\n",
              "      }\n",
              "    </script>\n",
              "  </div>\n",
              "\n",
              "\n",
              "<div id=\"df-4f444015-9f90-429c-8270-38ec02fe0fac\">\n",
              "  <button class=\"colab-df-quickchart\" onclick=\"quickchart('df-4f444015-9f90-429c-8270-38ec02fe0fac')\"\n",
              "            title=\"Suggest charts\"\n",
              "            style=\"display:none;\">\n",
              "\n",
              "<svg xmlns=\"http://www.w3.org/2000/svg\" height=\"24px\"viewBox=\"0 0 24 24\"\n",
              "     width=\"24px\">\n",
              "    <g>\n",
              "        <path d=\"M19 3H5c-1.1 0-2 .9-2 2v14c0 1.1.9 2 2 2h14c1.1 0 2-.9 2-2V5c0-1.1-.9-2-2-2zM9 17H7v-7h2v7zm4 0h-2V7h2v10zm4 0h-2v-4h2v4z\"/>\n",
              "    </g>\n",
              "</svg>\n",
              "  </button>\n",
              "\n",
              "<style>\n",
              "  .colab-df-quickchart {\n",
              "      --bg-color: #E8F0FE;\n",
              "      --fill-color: #1967D2;\n",
              "      --hover-bg-color: #E2EBFA;\n",
              "      --hover-fill-color: #174EA6;\n",
              "      --disabled-fill-color: #AAA;\n",
              "      --disabled-bg-color: #DDD;\n",
              "  }\n",
              "\n",
              "  [theme=dark] .colab-df-quickchart {\n",
              "      --bg-color: #3B4455;\n",
              "      --fill-color: #D2E3FC;\n",
              "      --hover-bg-color: #434B5C;\n",
              "      --hover-fill-color: #FFFFFF;\n",
              "      --disabled-bg-color: #3B4455;\n",
              "      --disabled-fill-color: #666;\n",
              "  }\n",
              "\n",
              "  .colab-df-quickchart {\n",
              "    background-color: var(--bg-color);\n",
              "    border: none;\n",
              "    border-radius: 50%;\n",
              "    cursor: pointer;\n",
              "    display: none;\n",
              "    fill: var(--fill-color);\n",
              "    height: 32px;\n",
              "    padding: 0;\n",
              "    width: 32px;\n",
              "  }\n",
              "\n",
              "  .colab-df-quickchart:hover {\n",
              "    background-color: var(--hover-bg-color);\n",
              "    box-shadow: 0 1px 2px rgba(60, 64, 67, 0.3), 0 1px 3px 1px rgba(60, 64, 67, 0.15);\n",
              "    fill: var(--button-hover-fill-color);\n",
              "  }\n",
              "\n",
              "  .colab-df-quickchart-complete:disabled,\n",
              "  .colab-df-quickchart-complete:disabled:hover {\n",
              "    background-color: var(--disabled-bg-color);\n",
              "    fill: var(--disabled-fill-color);\n",
              "    box-shadow: none;\n",
              "  }\n",
              "\n",
              "  .colab-df-spinner {\n",
              "    border: 2px solid var(--fill-color);\n",
              "    border-color: transparent;\n",
              "    border-bottom-color: var(--fill-color);\n",
              "    animation:\n",
              "      spin 1s steps(1) infinite;\n",
              "  }\n",
              "\n",
              "  @keyframes spin {\n",
              "    0% {\n",
              "      border-color: transparent;\n",
              "      border-bottom-color: var(--fill-color);\n",
              "      border-left-color: var(--fill-color);\n",
              "    }\n",
              "    20% {\n",
              "      border-color: transparent;\n",
              "      border-left-color: var(--fill-color);\n",
              "      border-top-color: var(--fill-color);\n",
              "    }\n",
              "    30% {\n",
              "      border-color: transparent;\n",
              "      border-left-color: var(--fill-color);\n",
              "      border-top-color: var(--fill-color);\n",
              "      border-right-color: var(--fill-color);\n",
              "    }\n",
              "    40% {\n",
              "      border-color: transparent;\n",
              "      border-right-color: var(--fill-color);\n",
              "      border-top-color: var(--fill-color);\n",
              "    }\n",
              "    60% {\n",
              "      border-color: transparent;\n",
              "      border-right-color: var(--fill-color);\n",
              "    }\n",
              "    80% {\n",
              "      border-color: transparent;\n",
              "      border-right-color: var(--fill-color);\n",
              "      border-bottom-color: var(--fill-color);\n",
              "    }\n",
              "    90% {\n",
              "      border-color: transparent;\n",
              "      border-bottom-color: var(--fill-color);\n",
              "    }\n",
              "  }\n",
              "</style>\n",
              "\n",
              "  <script>\n",
              "    async function quickchart(key) {\n",
              "      const quickchartButtonEl =\n",
              "        document.querySelector('#' + key + ' button');\n",
              "      quickchartButtonEl.disabled = true;  // To prevent multiple clicks.\n",
              "      quickchartButtonEl.classList.add('colab-df-spinner');\n",
              "      try {\n",
              "        const charts = await google.colab.kernel.invokeFunction(\n",
              "            'suggestCharts', [key], {});\n",
              "      } catch (error) {\n",
              "        console.error('Error during call to suggestCharts:', error);\n",
              "      }\n",
              "      quickchartButtonEl.classList.remove('colab-df-spinner');\n",
              "      quickchartButtonEl.classList.add('colab-df-quickchart-complete');\n",
              "    }\n",
              "    (() => {\n",
              "      let quickchartButtonEl =\n",
              "        document.querySelector('#df-4f444015-9f90-429c-8270-38ec02fe0fac button');\n",
              "      quickchartButtonEl.style.display =\n",
              "        google.colab.kernel.accessAllowed ? 'block' : 'none';\n",
              "    })();\n",
              "  </script>\n",
              "</div>\n",
              "    </div>\n",
              "  </div>\n"
            ]
          },
          "metadata": {},
          "execution_count": 27
        }
      ]
    },
    {
      "cell_type": "code",
      "source": [
        "# Xử lí các giá trị trùng lặp khi tạo dataFrame\n",
        "df_merge[['Facilities','Around', 'Vicinity', 'Price']] = df_merge[['Facilities','Around', 'Vicinity', 'Price']].apply(lambda x: x.apply(lambda y: ', '.join(set(y.split(', ')))))"
      ],
      "metadata": {
        "id": "SDcaxJdJv_Qc"
      },
      "execution_count": 28,
      "outputs": []
    },
    {
      "cell_type": "markdown",
      "source": [
        "# Tiền xử lí và trích xuất vecto đặc trưng của Khách sạn và người dùng"
      ],
      "metadata": {
        "id": "8rVn4v9bmJO5"
      }
    },
    {
      "cell_type": "code",
      "source": [
        "# Lấy bộ từ để đưa vào mô hình Word2vec\n",
        "hotel_fac_corpus = hotel_data['Facilities'].tolist()\n",
        "hotel_ar_corpus = hotel_data['Around'].tolist()\n",
        "hotel_vici_corpus = hotel_data['Vicinity'].tolist()\n",
        "hotel_pri_corpus = hotel_data['Price_Category'].tolist()\n",
        "user_fac_corpus = df_merge['Facilities'].tolist()\n",
        "user_ar_corpus = df_merge['Around'].tolist()\n",
        "user_vici_corpus = df_merge['Vicinity'].tolist()\n",
        "user_pri_corpus = df_merge['Price'].tolist()"
      ],
      "metadata": {
        "id": "K-PXVp35ceEz"
      },
      "execution_count": 30,
      "outputs": []
    },
    {
      "cell_type": "code",
      "source": [
        "# Khởi tạo 1 Lemmatizer\n",
        "lemmatizer = WordNetLemmatizer()"
      ],
      "metadata": {
        "id": "5panRlkwcfV5"
      },
      "execution_count": 29,
      "outputs": []
    },
    {
      "cell_type": "code",
      "source": [
        "def preprocess_text(text):\n",
        "    #Loại bỏ dấu phẩy\n",
        "    text = text.replace(',', '')\n",
        "\n",
        "    # Tokennize các từ với pyvi\n",
        "    tokens = ViTokenizer.tokenize(text)\n",
        "\n",
        "    # Chuyển về viết thường\n",
        "    tokens = tokens.lower().split()\n",
        "\n",
        "    # Chuẩn hóa từ\n",
        "    tokens = [lemmatizer.lemmatize(token) for token in tokens]\n",
        "\n",
        "    return tokens"
      ],
      "metadata": {
        "id": "9MZ5US3PciDh"
      },
      "execution_count": 31,
      "outputs": []
    },
    {
      "cell_type": "code",
      "source": [
        "def extract_document_vectors(corpus):\n",
        "    # Xử lí dữ liệu đầu vào\n",
        "    preprocessed_corpus = [preprocess_text(text) for text in corpus]\n",
        "\n",
        "    # Huấn luyện mô hình với bộ từ được đưa vào\n",
        "    model = Word2Vec(sentences=preprocessed_corpus, vector_size=300, window=10, min_count=1)\n",
        "\n",
        "    # Trích xuất vecto đặc trưng\n",
        "    document_vectors = []\n",
        "    for text in preprocessed_corpus:\n",
        "        doc_vector = []\n",
        "        for word in text:\n",
        "            if word in model.wv:\n",
        "                doc_vector.append(model.wv[word])\n",
        "        if doc_vector:\n",
        "            document_vector = sum(doc_vector) / len(doc_vector)\n",
        "            document_vectors.append(document_vector)\n",
        "\n",
        "    return document_vectors"
      ],
      "metadata": {
        "id": "WOi9dsEwck3B"
      },
      "execution_count": 42,
      "outputs": []
    },
    {
      "cell_type": "code",
      "source": [
        "# Trích xuất vecto đặc trưng\n",
        "hotel_facilities_vectors = np.array(extract_document_vectors(hotel_fac_corpus))\n",
        "hotel_around_vectors = np.array(extract_document_vectors(hotel_ar_corpus))\n",
        "hotel_vicinity_vectors = np.array(extract_document_vectors(hotel_vici_corpus))\n",
        "hotel_price_vectors = np.array(extract_document_vectors(hotel_pri_corpus))\n",
        "user_facilities_vectors = np.array(extract_document_vectors(user_fac_corpus))\n",
        "user_around_vectors = np.array(extract_document_vectors(user_ar_corpus))\n",
        "user_vicinity_vectors = np.array(extract_document_vectors(user_vici_corpus))\n",
        "user_price_vectors = np.array(extract_document_vectors(user_pri_corpus))"
      ],
      "metadata": {
        "id": "a6U1m7p2cmGp"
      },
      "execution_count": 43,
      "outputs": []
    },
    {
      "cell_type": "markdown",
      "source": [
        "# Tính độ tương đồng Cosine_similarity"
      ],
      "metadata": {
        "id": "xz9XiUnlmT6p"
      }
    },
    {
      "cell_type": "code",
      "source": [
        "# Tạo vecto đặc trưng của user và khách sạn bằng cách lấy trung bình các vecto thành phần\n",
        "hotel_vec = 0.25*hotel_facilities_vectors + 0.25*hotel_around_vectors + 0.25*hotel_vicinity_vectors + 0.25*hotel_price_vectors\n",
        "user_vec = 0.25*user_facilities_vectors + 0.25*user_around_vectors + 0.25*user_vicinity_vectors + 0.25*user_price_vectors"
      ],
      "metadata": {
        "id": "6yKhabdacp5R"
      },
      "execution_count": 44,
      "outputs": []
    },
    {
      "cell_type": "code",
      "source": [
        "# Tính độ tương đồng cosine\n",
        "sim_synthesis = cosine_similarity(user_vec,hotel_vec)"
      ],
      "metadata": {
        "id": "_p0W7DPxcrQx"
      },
      "execution_count": 45,
      "outputs": []
    },
    {
      "cell_type": "code",
      "source": [
        "sim_synthesis"
      ],
      "metadata": {
        "colab": {
          "base_uri": "https://localhost:8080/"
        },
        "id": "nCaK0YiAcscR",
        "outputId": "914f5f05-46a7-4f77-b09a-866a16576811"
      },
      "execution_count": 46,
      "outputs": [
        {
          "output_type": "execute_result",
          "data": {
            "text/plain": [
              "array([[0.71381307, 0.71366423, 0.71306944, ..., 0.7253521 , 0.71949774,\n",
              "        0.7186388 ],\n",
              "       [0.721679  , 0.7214062 , 0.72076035, ..., 0.7323262 , 0.72727126,\n",
              "        0.72764707],\n",
              "       [0.7759683 , 0.77582264, 0.77528113, ..., 0.78582126, 0.78089106,\n",
              "        0.7809717 ],\n",
              "       ...,\n",
              "       [0.72092026, 0.72064674, 0.71997124, ..., 0.7311853 , 0.7264107 ,\n",
              "        0.72672707],\n",
              "       [0.6752041 , 0.67521334, 0.6745671 , ..., 0.68618155, 0.68064547,\n",
              "        0.6798993 ],\n",
              "       [0.73581755, 0.73579973, 0.73505956, ..., 0.7482066 , 0.74204683,\n",
              "        0.741162  ]], dtype=float32)"
            ]
          },
          "metadata": {},
          "execution_count": 46
        }
      ]
    },
    {
      "cell_type": "markdown",
      "source": [
        "# Đề xuất khách sạn"
      ],
      "metadata": {
        "id": "JsOAUirRmZrx"
      }
    },
    {
      "cell_type": "code",
      "source": [
        "# Hàm đề xuất khách sạn cho người dùng\n",
        "def get_recommendations_content_based(userid, num_hotels):\n",
        "    # Lấy độ tương đồng với khách sạn của user\n",
        "    user_index = df_merge[df_merge['IDuser'] == userid].index\n",
        "    if not user_index.empty:\n",
        "        sim_scores = list(enumerate(sim_synthesis[user_index[0]]))\n",
        "        sim_scores = sorted(sim_scores, key=lambda x: x[1], reverse=True)\n",
        "        sim_scores = sim_scores[:200]\n",
        "        hotel_indices = [i[0] for i in sim_scores]\n",
        "        similar_hotels = hotel_data.loc[hotel_indices, 'NameHotel'].tolist()\n",
        "\n",
        "        # Lọc và lấy ra danh sách khách sạn đề đề xuất\n",
        "        list_recommendation_location = []\n",
        "        for hotel_name in similar_hotels:\n",
        "            if hotel_name in hotel_data['NameHotel'].values:\n",
        "                list_recommendation_location.append(hotel_name)\n",
        "                if len(list_recommendation_location) == num_hotels:\n",
        "                    break\n",
        "\n",
        "        return list_recommendation_location\n",
        "    else:\n",
        "        return []"
      ],
      "metadata": {
        "id": "7iVi0yues0ek"
      },
      "execution_count": 47,
      "outputs": []
    },
    {
      "cell_type": "code",
      "source": [
        "# Danh sách khách sạn đề xuất cho user có ID = 3857\n",
        "%%time\n",
        "ls = get_recommendations_content_based(3857, 20)\n",
        "ls"
      ],
      "metadata": {
        "colab": {
          "base_uri": "https://localhost:8080/"
        },
        "id": "XyCC-Lk3cvhh",
        "outputId": "cba4c5a9-72fe-48b5-9db0-659fab724f6e"
      },
      "execution_count": 48,
      "outputs": [
        {
          "output_type": "stream",
          "name": "stdout",
          "text": [
            "CPU times: user 3.49 ms, sys: 0 ns, total: 3.49 ms\n",
            "Wall time: 3.45 ms\n"
          ]
        },
        {
          "output_type": "execute_result",
          "data": {
            "text/plain": [
              "['Melia Hồ Tràm Beach Resort',\n",
              " 'Khu nghỉ dưỡng Risemount Premier Đà Nẵng',\n",
              " 'The Palmy Phú Quốc Resort & Spa',\n",
              " 'Seashells Phú Quốc Hotel & Spa',\n",
              " 'Hội An Việt House Homestay',\n",
              " 'Famiana Resort & Spa Phú Quốc',\n",
              " 'Khách sạn Hải Âu Quy Nhơn',\n",
              " 'Khu nghỉ dưỡng và Spa Mikazuki Nhật Bản',\n",
              " 'Khu nghỉ dưỡng The Sailing Bay Beach Phan Thiết',\n",
              " 'Khu nghỉ dưỡng Pilgrimage Village Boutique',\n",
              " 'Khách sạn Fusion Suites Vũng Tàu',\n",
              " 'Ly Ky Hotel',\n",
              " 'Khách sạn Lasenta Boutique Hội An',\n",
              " 'Swiss-Belresort Tuyền Lâm - Đà Lạt',\n",
              " 'Khách sạn Zalo Sea',\n",
              " 'Thanh Binh Central Hotel',\n",
              " 'Cereja Hotel & Resort Đà Lạt',\n",
              " 'Phan Thiet Ocean Dunes Resort',\n",
              " 'Khách sạn Mường Thanh Luxury Phú Quốc',\n",
              " 'Sandunes Beach Resort and Spa']"
            ]
          },
          "metadata": {},
          "execution_count": 48
        }
      ]
    },
    {
      "cell_type": "code",
      "source": [
        "# Đề xuất cho toàn bộ các user\n",
        "%%time\n",
        "list_content_based = []\n",
        "num_hotels_cb = 100\n",
        "\n",
        "for i in tqdm(range(df_merge.shape[0])):\n",
        "  list_content_based.append(get_recommendations_content_based(df_merge.iloc[i,0], num_hotels_cb))"
      ],
      "metadata": {
        "colab": {
          "base_uri": "https://localhost:8080/"
        },
        "id": "bVqGePYxcxbh",
        "outputId": "e712d83d-5855-4362-836c-278caaf9e0e4"
      },
      "execution_count": 49,
      "outputs": [
        {
          "output_type": "stream",
          "name": "stderr",
          "text": [
            "100%|██████████| 9276/9276 [00:28<00:00, 327.45it/s]"
          ]
        },
        {
          "output_type": "stream",
          "name": "stdout",
          "text": [
            "CPU times: user 26.9 s, sys: 431 ms, total: 27.3 s\n",
            "Wall time: 28.3 s\n"
          ]
        },
        {
          "output_type": "stream",
          "name": "stderr",
          "text": [
            "\n"
          ]
        }
      ]
    },
    {
      "cell_type": "markdown",
      "source": [
        "# Lưu kết quả vào để đánh giá mô hình"
      ],
      "metadata": {
        "id": "4XKmMMJwmgCZ"
      }
    },
    {
      "cell_type": "code",
      "source": [
        "# Lưu kết quả khuyến nghị vào dataFrame\n",
        "list_user = df_merge['IDuser']\n",
        "df_pred = pd.DataFrame(list_user,columns=['IDuser'])\n",
        "df_pred['List Hotel Recommended'] = list_content_based"
      ],
      "metadata": {
        "id": "dmq6noFnczLZ"
      },
      "execution_count": 50,
      "outputs": []
    },
    {
      "cell_type": "code",
      "source": [
        "# Xuất dataFrame ra file .csv\n",
        "df_pred.to_csv('/content/drive/MyDrive/DS300_DoAn/data/List_Hotel_Recommend.csv')"
      ],
      "metadata": {
        "id": "m0D2zvwHc0gR"
      },
      "execution_count": 51,
      "outputs": []
    }
  ]
}